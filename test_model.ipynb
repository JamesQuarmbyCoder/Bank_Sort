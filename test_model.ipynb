{
 "cells": [
  {
   "cell_type": "code",
   "execution_count": 1,
   "metadata": {},
   "outputs": [
    {
     "name": "stdout",
     "output_type": "stream",
     "text": [
      "WARNING:tensorflow:From C:\\Users\\james\\AppData\\Local\\Packages\\PythonSoftwareFoundation.Python.3.10_qbz5n2kfra8p0\\LocalCache\\local-packages\\Python310\\site-packages\\keras\\src\\losses.py:2976: The name tf.losses.sparse_softmax_cross_entropy is deprecated. Please use tf.compat.v1.losses.sparse_softmax_cross_entropy instead.\n",
      "\n"
     ]
    }
   ],
   "source": [
    "import tensorflow as tf\n",
    "from sklearn.model_selection import train_test_split\n",
    "import pandas as pd\n",
    "import re\n",
    "\n",
    "import nltk\n",
    "# nltk.download('punkt')\n",
    "# nltk.download('averaged_perceptron_tagger')"
   ]
  },
  {
   "cell_type": "code",
   "execution_count": 2,
   "metadata": {},
   "outputs": [],
   "source": [
    "statement_df = pd.read_csv(\"Bank Statement.csv\")\n",
    "def split_string(Split_sting):\n",
    "    new = Split_sting.split(\" \")\n",
    "    return new\n",
    "def remove_special_characters(string):\n",
    "    pattern = r'[~&]'\n",
    "    cleaned_string = re.sub(pattern, ' ', string)\n",
    "    return cleaned_string"
   ]
  },
  {
   "cell_type": "code",
   "execution_count": 3,
   "metadata": {},
   "outputs": [],
   "source": [
    "statement_df = pd.read_csv(\"transaction-data.csv\")\n",
    "def split_string(Split_sting):\n",
    "    new = Split_sting.split(\" \")\n",
    "    return new\n",
    "def remove_special_characters(string):\n",
    "    pattern = r'[~&]'\n",
    "    cleaned_string = re.sub(pattern, ' ', string)\n",
    "    return cleaned_string"
   ]
  },
  {
   "cell_type": "code",
   "execution_count": 4,
   "metadata": {},
   "outputs": [],
   "source": [
    "from collections import defaultdict\n",
    "def link_liked_strings(string):\n",
    "    tokens = nltk.word_tokenize(string, language=\"english\")\n",
    "    pos_tags = nltk.pos_tag(tokens)\n",
    "    pos_dict = {word: pos for word, pos in pos_tags}\n",
    "\n",
    "    grouped_keys_dict = defaultdict(list)\n",
    "\n",
    "    for key, value in pos_dict.items():\n",
    "        grouped_keys_dict[value].append(key)\n",
    "\n",
    "\n",
    "    result_list = [' '.join(keys) for keys in grouped_keys_dict.values()][0]\n",
    "    return result_list"
   ]
  },
  {
   "cell_type": "code",
   "execution_count": 5,
   "metadata": {},
   "outputs": [],
   "source": [
    "#Remove visa and on\n",
    "elements_to_remove = [\"VISA\", \"ON\"]\n",
    "def remove_visa_on(string):\n",
    "    String_list = split_string(string)\n",
    "    filtered_list = [element for element in String_list if element not in elements_to_remove] \n",
    "    new = \" \".join(filtered_list)\n",
    "    return new"
   ]
  },
  {
   "cell_type": "code",
   "execution_count": 6,
   "metadata": {},
   "outputs": [],
   "source": [
    "statement_df[\"Narrative\"] = statement_df[\"Narrative\"].apply(lambda x: remove_special_characters(x))\n",
    "statement_df[\"Narrative\"] = statement_df[\"Narrative\"].apply(lambda x: link_liked_strings(x))\n",
    "statement_df[\"Narrative\"] = statement_df[\"Narrative\"].apply(lambda x: remove_visa_on(x))"
   ]
  },
  {
   "cell_type": "code",
   "execution_count": 7,
   "metadata": {},
   "outputs": [
    {
     "ename": "AttributeError",
     "evalue": "Can't get attribute 'preprocess_text' on <module '__main__'>",
     "output_type": "error",
     "traceback": [
      "\u001b[1;31m---------------------------------------------------------------------------\u001b[0m",
      "\u001b[1;31mAttributeError\u001b[0m                            Traceback (most recent call last)",
      "Cell \u001b[1;32mIn[7], line 2\u001b[0m\n\u001b[0;32m      1\u001b[0m \u001b[38;5;28;01mimport\u001b[39;00m \u001b[38;5;21;01mjoblib\u001b[39;00m\n\u001b[1;32m----> 2\u001b[0m loaded_model \u001b[38;5;241m=\u001b[39m \u001b[43mjoblib\u001b[49m\u001b[38;5;241;43m.\u001b[39;49m\u001b[43mload\u001b[49m\u001b[43m(\u001b[49m\u001b[38;5;124;43m'\u001b[39;49m\u001b[38;5;124;43myour_model_filename.joblib\u001b[39;49m\u001b[38;5;124;43m'\u001b[39;49m\u001b[43m)\u001b[49m\n",
      "File \u001b[1;32m~\\AppData\\Local\\Packages\\PythonSoftwareFoundation.Python.3.10_qbz5n2kfra8p0\\LocalCache\\local-packages\\Python310\\site-packages\\joblib\\numpy_pickle.py:658\u001b[0m, in \u001b[0;36mload\u001b[1;34m(filename, mmap_mode)\u001b[0m\n\u001b[0;32m    652\u001b[0m             \u001b[38;5;28;01mif\u001b[39;00m \u001b[38;5;28misinstance\u001b[39m(fobj, \u001b[38;5;28mstr\u001b[39m):\n\u001b[0;32m    653\u001b[0m                 \u001b[38;5;66;03m# if the returned file object is a string, this means we\u001b[39;00m\n\u001b[0;32m    654\u001b[0m                 \u001b[38;5;66;03m# try to load a pickle file generated with an version of\u001b[39;00m\n\u001b[0;32m    655\u001b[0m                 \u001b[38;5;66;03m# Joblib so we load it with joblib compatibility function.\u001b[39;00m\n\u001b[0;32m    656\u001b[0m                 \u001b[38;5;28;01mreturn\u001b[39;00m load_compatibility(fobj)\n\u001b[1;32m--> 658\u001b[0m             obj \u001b[38;5;241m=\u001b[39m \u001b[43m_unpickle\u001b[49m\u001b[43m(\u001b[49m\u001b[43mfobj\u001b[49m\u001b[43m,\u001b[49m\u001b[43m \u001b[49m\u001b[43mfilename\u001b[49m\u001b[43m,\u001b[49m\u001b[43m \u001b[49m\u001b[43mmmap_mode\u001b[49m\u001b[43m)\u001b[49m\n\u001b[0;32m    659\u001b[0m \u001b[38;5;28;01mreturn\u001b[39;00m obj\n",
      "File \u001b[1;32m~\\AppData\\Local\\Packages\\PythonSoftwareFoundation.Python.3.10_qbz5n2kfra8p0\\LocalCache\\local-packages\\Python310\\site-packages\\joblib\\numpy_pickle.py:577\u001b[0m, in \u001b[0;36m_unpickle\u001b[1;34m(fobj, filename, mmap_mode)\u001b[0m\n\u001b[0;32m    575\u001b[0m obj \u001b[38;5;241m=\u001b[39m \u001b[38;5;28;01mNone\u001b[39;00m\n\u001b[0;32m    576\u001b[0m \u001b[38;5;28;01mtry\u001b[39;00m:\n\u001b[1;32m--> 577\u001b[0m     obj \u001b[38;5;241m=\u001b[39m \u001b[43munpickler\u001b[49m\u001b[38;5;241;43m.\u001b[39;49m\u001b[43mload\u001b[49m\u001b[43m(\u001b[49m\u001b[43m)\u001b[49m\n\u001b[0;32m    578\u001b[0m     \u001b[38;5;28;01mif\u001b[39;00m unpickler\u001b[38;5;241m.\u001b[39mcompat_mode:\n\u001b[0;32m    579\u001b[0m         warnings\u001b[38;5;241m.\u001b[39mwarn(\u001b[38;5;124m\"\u001b[39m\u001b[38;5;124mThe file \u001b[39m\u001b[38;5;124m'\u001b[39m\u001b[38;5;132;01m%s\u001b[39;00m\u001b[38;5;124m'\u001b[39m\u001b[38;5;124m has been generated with a \u001b[39m\u001b[38;5;124m\"\u001b[39m\n\u001b[0;32m    580\u001b[0m                       \u001b[38;5;124m\"\u001b[39m\u001b[38;5;124mjoblib version less than 0.10. \u001b[39m\u001b[38;5;124m\"\u001b[39m\n\u001b[0;32m    581\u001b[0m                       \u001b[38;5;124m\"\u001b[39m\u001b[38;5;124mPlease regenerate this pickle file.\u001b[39m\u001b[38;5;124m\"\u001b[39m\n\u001b[0;32m    582\u001b[0m                       \u001b[38;5;241m%\u001b[39m filename,\n\u001b[0;32m    583\u001b[0m                       \u001b[38;5;167;01mDeprecationWarning\u001b[39;00m, stacklevel\u001b[38;5;241m=\u001b[39m\u001b[38;5;241m3\u001b[39m)\n",
      "File \u001b[1;32mC:\\Program Files\\WindowsApps\\PythonSoftwareFoundation.Python.3.10_3.10.3056.0_x64__qbz5n2kfra8p0\\lib\\pickle.py:1213\u001b[0m, in \u001b[0;36m_Unpickler.load\u001b[1;34m(self)\u001b[0m\n\u001b[0;32m   1211\u001b[0m             \u001b[38;5;28;01mraise\u001b[39;00m \u001b[38;5;167;01mEOFError\u001b[39;00m\n\u001b[0;32m   1212\u001b[0m         \u001b[38;5;28;01massert\u001b[39;00m \u001b[38;5;28misinstance\u001b[39m(key, bytes_types)\n\u001b[1;32m-> 1213\u001b[0m         \u001b[43mdispatch\u001b[49m\u001b[43m[\u001b[49m\u001b[43mkey\u001b[49m\u001b[43m[\u001b[49m\u001b[38;5;241;43m0\u001b[39;49m\u001b[43m]\u001b[49m\u001b[43m]\u001b[49m\u001b[43m(\u001b[49m\u001b[38;5;28;43mself\u001b[39;49m\u001b[43m)\u001b[49m\n\u001b[0;32m   1214\u001b[0m \u001b[38;5;28;01mexcept\u001b[39;00m _Stop \u001b[38;5;28;01mas\u001b[39;00m stopinst:\n\u001b[0;32m   1215\u001b[0m     \u001b[38;5;28;01mreturn\u001b[39;00m stopinst\u001b[38;5;241m.\u001b[39mvalue\n",
      "File \u001b[1;32mC:\\Program Files\\WindowsApps\\PythonSoftwareFoundation.Python.3.10_3.10.3056.0_x64__qbz5n2kfra8p0\\lib\\pickle.py:1538\u001b[0m, in \u001b[0;36m_Unpickler.load_stack_global\u001b[1;34m(self)\u001b[0m\n\u001b[0;32m   1536\u001b[0m \u001b[38;5;28;01mif\u001b[39;00m \u001b[38;5;28mtype\u001b[39m(name) \u001b[38;5;129;01mis\u001b[39;00m \u001b[38;5;129;01mnot\u001b[39;00m \u001b[38;5;28mstr\u001b[39m \u001b[38;5;129;01mor\u001b[39;00m \u001b[38;5;28mtype\u001b[39m(module) \u001b[38;5;129;01mis\u001b[39;00m \u001b[38;5;129;01mnot\u001b[39;00m \u001b[38;5;28mstr\u001b[39m:\n\u001b[0;32m   1537\u001b[0m     \u001b[38;5;28;01mraise\u001b[39;00m UnpicklingError(\u001b[38;5;124m\"\u001b[39m\u001b[38;5;124mSTACK_GLOBAL requires str\u001b[39m\u001b[38;5;124m\"\u001b[39m)\n\u001b[1;32m-> 1538\u001b[0m \u001b[38;5;28mself\u001b[39m\u001b[38;5;241m.\u001b[39mappend(\u001b[38;5;28;43mself\u001b[39;49m\u001b[38;5;241;43m.\u001b[39;49m\u001b[43mfind_class\u001b[49m\u001b[43m(\u001b[49m\u001b[43mmodule\u001b[49m\u001b[43m,\u001b[49m\u001b[43m \u001b[49m\u001b[43mname\u001b[49m\u001b[43m)\u001b[49m)\n",
      "File \u001b[1;32mC:\\Program Files\\WindowsApps\\PythonSoftwareFoundation.Python.3.10_3.10.3056.0_x64__qbz5n2kfra8p0\\lib\\pickle.py:1582\u001b[0m, in \u001b[0;36m_Unpickler.find_class\u001b[1;34m(self, module, name)\u001b[0m\n\u001b[0;32m   1580\u001b[0m \u001b[38;5;28m__import__\u001b[39m(module, level\u001b[38;5;241m=\u001b[39m\u001b[38;5;241m0\u001b[39m)\n\u001b[0;32m   1581\u001b[0m \u001b[38;5;28;01mif\u001b[39;00m \u001b[38;5;28mself\u001b[39m\u001b[38;5;241m.\u001b[39mproto \u001b[38;5;241m>\u001b[39m\u001b[38;5;241m=\u001b[39m \u001b[38;5;241m4\u001b[39m:\n\u001b[1;32m-> 1582\u001b[0m     \u001b[38;5;28;01mreturn\u001b[39;00m \u001b[43m_getattribute\u001b[49m\u001b[43m(\u001b[49m\u001b[43msys\u001b[49m\u001b[38;5;241;43m.\u001b[39;49m\u001b[43mmodules\u001b[49m\u001b[43m[\u001b[49m\u001b[43mmodule\u001b[49m\u001b[43m]\u001b[49m\u001b[43m,\u001b[49m\u001b[43m \u001b[49m\u001b[43mname\u001b[49m\u001b[43m)\u001b[49m[\u001b[38;5;241m0\u001b[39m]\n\u001b[0;32m   1583\u001b[0m \u001b[38;5;28;01melse\u001b[39;00m:\n\u001b[0;32m   1584\u001b[0m     \u001b[38;5;28;01mreturn\u001b[39;00m \u001b[38;5;28mgetattr\u001b[39m(sys\u001b[38;5;241m.\u001b[39mmodules[module], name)\n",
      "File \u001b[1;32mC:\\Program Files\\WindowsApps\\PythonSoftwareFoundation.Python.3.10_3.10.3056.0_x64__qbz5n2kfra8p0\\lib\\pickle.py:331\u001b[0m, in \u001b[0;36m_getattribute\u001b[1;34m(obj, name)\u001b[0m\n\u001b[0;32m    329\u001b[0m         obj \u001b[38;5;241m=\u001b[39m \u001b[38;5;28mgetattr\u001b[39m(obj, subpath)\n\u001b[0;32m    330\u001b[0m     \u001b[38;5;28;01mexcept\u001b[39;00m \u001b[38;5;167;01mAttributeError\u001b[39;00m:\n\u001b[1;32m--> 331\u001b[0m         \u001b[38;5;28;01mraise\u001b[39;00m \u001b[38;5;167;01mAttributeError\u001b[39;00m(\u001b[38;5;124m\"\u001b[39m\u001b[38;5;124mCan\u001b[39m\u001b[38;5;124m'\u001b[39m\u001b[38;5;124mt get attribute \u001b[39m\u001b[38;5;132;01m{!r}\u001b[39;00m\u001b[38;5;124m on \u001b[39m\u001b[38;5;132;01m{!r}\u001b[39;00m\u001b[38;5;124m\"\u001b[39m\n\u001b[0;32m    332\u001b[0m                              \u001b[38;5;241m.\u001b[39mformat(name, obj)) \u001b[38;5;28;01mfrom\u001b[39;00m \u001b[38;5;28mNone\u001b[39m\n\u001b[0;32m    333\u001b[0m \u001b[38;5;28;01mreturn\u001b[39;00m obj, parent\n",
      "\u001b[1;31mAttributeError\u001b[0m: Can't get attribute 'preprocess_text' on <module '__main__'>"
     ]
    }
   ],
   "source": [
    "import joblib\n",
    "loaded_model = joblib.load('your_model_filename.joblib')"
   ]
  },
  {
   "cell_type": "code",
   "execution_count": null,
   "metadata": {},
   "outputs": [
    {
     "name": "stdout",
     "output_type": "stream",
     "text": [
      "[[['EFT INTERNET PAYMENT AMBER MARSELLA LTD BOILER FIX' 'Transfer']]\n",
      "\n",
      " [['UBER * EATS HELP.UBER.COM' 'Travel']]\n",
      "\n",
      " [['UBER * TRIP HELP.UBER.COM' 'Travel']]\n",
      "\n",
      " [['UBER * TRIP LONDON' 'Travel']]\n",
      "\n",
      " [['THE SWAN LONDON SW9' 'Travel']]\n",
      "\n",
      " [['TVLICENSING.CO.UK' 'Travel']]\n",
      "\n",
      " [['THREE PAYG ONLINE' 'Travel']]\n",
      "\n",
      " [['GSI EVENTS KIRKNEWTON' 'Travel']]\n",
      "\n",
      " [['ICONS AIRPORT' 'Travel']]\n",
      "\n",
      " [['' 'Travel']]\n",
      "\n",
      " [['BRITISH A JOHANNESBURG ZAR @' 'Travel']]\n",
      "\n",
      " [['V A WATERFRONT ZAR @' 'Travel']]\n",
      "\n",
      " [['BA INFLIGHT SALES HARMONDSWORTH' 'Travel']]\n",
      "\n",
      " [['FACTORIE CAVENDISH CAPETOWN ZAR @' 'Travel']]\n",
      "\n",
      " [['FREEDOM OF MOVEMENT CLAREMONT ZAR @' 'Booze']]\n",
      "\n",
      " [['INTERPARK CAVENDISH CLAREMONT ZAR @' 'Travel']]\n",
      "\n",
      " [['EFT INTERNET PAYMENT JAMES QUARMBY REVOLUT ALLOWANCE' 'Transfer']]\n",
      "\n",
      " [['MCD CAVENDISH CLAREMONT ZAR @' 'Travel']]\n",
      "\n",
      " [['KWIKSPAR ALPHEN CONSTANTIA ZAR @' 'Travel']]\n",
      "\n",
      " [['TOTALSPORTS WATERFRONT CPT ZAR @' 'Travel']]\n",
      "\n",
      " [['BOOST_71 LOOP CAPE TOWN CBD ZAR @' 'Travel']]\n",
      "\n",
      " [['BOOST_71 LOOP CAPE TOWN CBD ZAR @' 'Travel']]\n",
      "\n",
      " [['KINGSBURY RADIOLOGY JOI CLAREMENT ZAR @' 'Travel']]\n",
      "\n",
      " [['UBERDIRECTSA_2 AMSTERDAM ZAR @' 'Travel']]\n",
      "\n",
      " [['MODULAR CLUB PTY LTD MILNERTON ZAR @' 'Booze']]\n",
      "\n",
      " [['MODULAR CLUB PTY LTD MILNERTON ZAR @' 'Booze']]\n",
      "\n",
      " [['MODULAR CLUB PTY LTD MILNERTON ZAR @' 'Booze']]\n",
      "\n",
      " [['PLAYTOMIC.IO MADRID ZAR @' 'Travel']]\n",
      "\n",
      " [['INWARD PAYMENT' 'Receive']]\n",
      "\n",
      " [['ENGEN MEADOWRIDGE CONSTANTIA ZAR @' 'Travel']]\n",
      "\n",
      " [['BLONDIE CAPE TOWN ZAR @' 'Travel']]\n",
      "\n",
      " [['UBERDIRECTSA_2 AMSTERDAM ZAR @' 'Travel']]\n",
      "\n",
      " [['UBERDIRECTSA_2 AMSTERDAM ZAR @' 'Travel']]\n",
      "\n",
      " [['PAYFLEX SANDTON ZAR @' 'Travel']]\n",
      "\n",
      " [['ITHUBA FUEL RIVIERSONDER RIVIERSONDERE ZAR @' 'Travel']]\n",
      "\n",
      " [['YOCO * AFRICA PADEL P CAPE TOWN ZAR @' 'Travel']]\n",
      "\n",
      " [['TOTALSPORTS CAVENDISH CPT ZAR @' 'Travel']]\n",
      "\n",
      " [['ATM FEE MELVILLES CN2 PLETTENBERG B' 'Travel']]\n",
      "\n",
      " [['YOCO * BAIA FORMOSA PLETTENBERG B ZAR @' 'Travel']]\n",
      "\n",
      " [['YOCO * BAIA FORMOSA PLETTENBERG B ZAR @' 'Travel']]\n",
      "\n",
      " [['YOCO * BAIA FORMOSA PLETTENBERG B ZAR @' 'Travel']]\n",
      "\n",
      " [['MELVILLES CN2 PLETTENBERG B ZAR @' 'Travel']]\n",
      "\n",
      " [['LINKEDIN PRE LINKEDIN.COM' 'Travel']]\n",
      "\n",
      " [['UBER * ONE HELP.UBER.COM' 'Travel']]\n",
      "\n",
      " [['THE GRAND LOOKOUT PLATTENBERG B ZAR @' 'Booze']]\n",
      "\n",
      " [['PRIME VIDEO * KZ0Z66YC5' 'Travel']]\n",
      "\n",
      " [['ADDPAY AGGREGATOR STELLENBOSCH ZAR @' 'Travel']]\n",
      "\n",
      " [['ADDPAY AGGREGATOR STELLENBOSCH ZAR @' 'Travel']]\n",
      "\n",
      " [['ST FRANCIS BAY GOLF CLUB BA ZAR @' 'Booze']]\n",
      "\n",
      " [['KNYSNA MUNICIPALITY TRA ZAR @' 'Travel']]\n",
      "\n",
      " [['GRAD PHOTOGRAPHS H TEMPEST LTD' 'Booze']]]\n"
     ]
    }
   ],
   "source": [
    "import numpy as np\n",
    "predictions = loaded_model.predict(statement_df[\"Narrative\"])\n",
    "show = np.array([[np.array(statement_df[\"Narrative\"])], [predictions]])\n",
    "print(show.T)"
   ]
  }
 ],
 "metadata": {
  "kernelspec": {
   "display_name": "Python 3",
   "language": "python",
   "name": "python3"
  },
  "language_info": {
   "codemirror_mode": {
    "name": "ipython",
    "version": 3
   },
   "file_extension": ".py",
   "mimetype": "text/x-python",
   "name": "python",
   "nbconvert_exporter": "python",
   "pygments_lexer": "ipython3",
   "version": "3.10.11"
  }
 },
 "nbformat": 4,
 "nbformat_minor": 2
}
