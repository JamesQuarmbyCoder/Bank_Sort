{
 "cells": [
  {
   "cell_type": "code",
   "execution_count": 1,
   "metadata": {},
   "outputs": [
    {
     "name": "stdout",
     "output_type": "stream",
     "text": [
      "WARNING:tensorflow:From C:\\Users\\james\\AppData\\Local\\Packages\\PythonSoftwareFoundation.Python.3.10_qbz5n2kfra8p0\\LocalCache\\local-packages\\Python310\\site-packages\\keras\\src\\losses.py:2976: The name tf.losses.sparse_softmax_cross_entropy is deprecated. Please use tf.compat.v1.losses.sparse_softmax_cross_entropy instead.\n",
      "\n"
     ]
    }
   ],
   "source": [
    "import tensorflow as tf\n",
    "from sklearn.model_selection import train_test_split\n",
    "import pandas as pd\n",
    "import re\n",
    "\n",
    "import nltk\n",
    "# nltk.download('punkt')\n",
    "# nltk.download('averaged_perceptron_tagger')"
   ]
  },
  {
   "cell_type": "code",
   "execution_count": 2,
   "metadata": {},
   "outputs": [],
   "source": [
    "# CC - Coordinating Conjunction\n",
    "# CD - Cardinal Number\n",
    "# DT - Determiner\n",
    "# EX - Existential There\n",
    "# FW - Foreign Word\n",
    "# IN - Preposition or Subordinating Conjunction\n",
    "# JJ - Adjective\n",
    "# JJR - Adjective, Comparative\n",
    "# JJS - Adjective, Superlative\n",
    "# LS - List Item Marker\n",
    "# MD - Modal\n",
    "# NN - Noun, Singular or Mass\n",
    "# NNS - Noun, Plural\n",
    "# NNP - Proper Noun, Singular\n",
    "# NNPS - Proper Noun, Plural\n",
    "# PDT - Predeterminer\n",
    "# POS - Possessive Ending\n",
    "# PRP - Personal Pronoun\n",
    "# PRP$ - Possessive Pronoun\n",
    "# RB - Adverb\n",
    "# RBR - Adverb, Comparative\n",
    "# RBS - Adverb, Superlative\n",
    "# RP - Particle\n",
    "# SYM - Symbol\n",
    "# TO - to\n",
    "# UH - Interjection\n",
    "# VB - Verb, Base Form\n",
    "# VBD - Verb, Past Tense\n",
    "# VBG - Verb, Gerund or Present Participle\n",
    "# VBN - Verb, Past Participle\n",
    "# VBP - Verb, Non-3rd Person Singular Present\n",
    "# VBZ - Verb, 3rd Person Singular Present\n",
    "# WDT - Wh-Determiner\n",
    "# WP - Wh-Pronoun\n",
    "# WP$ - Possessive Wh-Pronoun\n",
    "# WRB - Wh-Adverb"
   ]
  },
  {
   "cell_type": "code",
   "execution_count": 3,
   "metadata": {},
   "outputs": [],
   "source": [
    "statement_df = pd.read_csv(\"Bank_Statement.csv\")\n",
    "def split_string(Split_sting):\n",
    "    new = Split_sting.split(\" \")\n",
    "    return new\n",
    "def remove_special_characters(string):\n",
    "    pattern = r'[~&]'\n",
    "    cleaned_string = re.sub(pattern, ' ', string)\n",
    "    return cleaned_string"
   ]
  },
  {
   "cell_type": "code",
   "execution_count": 4,
   "metadata": {},
   "outputs": [],
   "source": [
    "from collections import defaultdict\n",
    "def link_liked_strings(string):\n",
    "    tokens = nltk.word_tokenize(string, language=\"english\")\n",
    "    pos_tags = nltk.pos_tag(tokens)\n",
    "    pos_dict = {word: pos for word, pos in pos_tags}\n",
    "\n",
    "    grouped_keys_dict = defaultdict(list)\n",
    "\n",
    "    for key, value in pos_dict.items():\n",
    "        grouped_keys_dict[value].append(key)\n",
    "\n",
    "\n",
    "    result_list = [' '.join(keys) for keys in grouped_keys_dict.values()][0]\n",
    "    return result_list"
   ]
  },
  {
   "cell_type": "code",
   "execution_count": 5,
   "metadata": {},
   "outputs": [],
   "source": [
    "#Remove visa and on\n",
    "elements_to_remove = [\"VISA\", \"ON\"]\n",
    "def remove_visa_on(string):\n",
    "    String_list = split_string(string)\n",
    "    filtered_list = [element for element in String_list if element not in elements_to_remove] \n",
    "    new = \" \".join(filtered_list)\n",
    "    return new"
   ]
  },
  {
   "cell_type": "code",
   "execution_count": 6,
   "metadata": {},
   "outputs": [],
   "source": [
    "statement_df[\"Narrative\"] = statement_df[\"Narrative\"].apply(lambda x: remove_special_characters(x))\n",
    "statement_df[\"Narrative\"] = statement_df[\"Narrative\"].apply(lambda x: link_liked_strings(x))\n",
    "statement_df[\"Narrative\"] = statement_df[\"Narrative\"].apply(lambda x: remove_visa_on(x))"
   ]
  },
  {
   "cell_type": "code",
   "execution_count": 7,
   "metadata": {},
   "outputs": [
    {
     "name": "stdout",
     "output_type": "stream",
     "text": [
      "Model Accuracy: 0.703125\n",
      "\n",
      "Classification Report:\n",
      "               precision    recall  f1-score   support\n",
      "\n",
      "        Booze       0.84      0.80      0.82        20\n",
      "Entertainment       0.00      0.00      0.00         3\n",
      "         Food       0.00      0.00      0.00         7\n",
      "      Receive       1.00      0.67      0.80         3\n",
      " Subscription       0.00      0.00      0.00         1\n",
      "     Supplies       0.00      0.00      0.00         3\n",
      "     Transfer       0.83      1.00      0.91         5\n",
      "       Travel       0.63      1.00      0.77        22\n",
      "\n",
      "     accuracy                           0.70        64\n",
      "    macro avg       0.41      0.43      0.41        64\n",
      " weighted avg       0.59      0.70      0.63        64\n",
      "\n"
     ]
    },
    {
     "name": "stderr",
     "output_type": "stream",
     "text": [
      "C:\\Users\\james\\AppData\\Local\\Packages\\PythonSoftwareFoundation.Python.3.10_qbz5n2kfra8p0\\LocalCache\\local-packages\\Python310\\site-packages\\sklearn\\metrics\\_classification.py:1344: UndefinedMetricWarning: Precision and F-score are ill-defined and being set to 0.0 in labels with no predicted samples. Use `zero_division` parameter to control this behavior.\n",
      "  _warn_prf(average, modifier, msg_start, len(result))\n",
      "C:\\Users\\james\\AppData\\Local\\Packages\\PythonSoftwareFoundation.Python.3.10_qbz5n2kfra8p0\\LocalCache\\local-packages\\Python310\\site-packages\\sklearn\\metrics\\_classification.py:1344: UndefinedMetricWarning: Precision and F-score are ill-defined and being set to 0.0 in labels with no predicted samples. Use `zero_division` parameter to control this behavior.\n",
      "  _warn_prf(average, modifier, msg_start, len(result))\n",
      "C:\\Users\\james\\AppData\\Local\\Packages\\PythonSoftwareFoundation.Python.3.10_qbz5n2kfra8p0\\LocalCache\\local-packages\\Python310\\site-packages\\sklearn\\metrics\\_classification.py:1344: UndefinedMetricWarning: Precision and F-score are ill-defined and being set to 0.0 in labels with no predicted samples. Use `zero_division` parameter to control this behavior.\n",
      "  _warn_prf(average, modifier, msg_start, len(result))\n"
     ]
    }
   ],
   "source": [
    "import pandas as pd\n",
    "from sklearn.model_selection import train_test_split\n",
    "from sklearn.feature_extraction.text import TfidfVectorizer\n",
    "from sklearn.naive_bayes import MultinomialNB\n",
    "from sklearn.pipeline import make_pipeline\n",
    "from sklearn.metrics import accuracy_score, classification_report\n",
    "import joblib\n",
    "# from nltk.corpus import stopwords\n",
    "# from nltk.stem import PorterStemmer\n",
    "# nltk.download('stopwords')\n",
    "train_data, test_data = train_test_split(statement_df, test_size=0.2, random_state=42)\n",
    "# def preprocess_text(text):\n",
    "#     stop_words = set(stopwords.words('english'))\n",
    "#     ps = PorterStemmer()\n",
    "#     cleaned_text = ' '.join([ps.stem(word) for word in text.split() if word.lower() not in stop_words])\n",
    "#     return cleaned_text\n",
    "\n",
    "# Initialize the pipeline with custom preprocessing and TfidfVectorizer\n",
    "# model = make_pipeline(\n",
    "#     TfidfVectorizer(preprocessor=preprocess_text),\n",
    "#     MultinomialNB()\n",
    "# )\n",
    "model = make_pipeline(TfidfVectorizer(), MultinomialNB())\n",
    "\n",
    "model.fit(train_data['Narrative'], train_data['Label'])\n",
    "\n",
    "predictions = model.predict(test_data['Narrative'])\n",
    "\n",
    "accuracy = accuracy_score(test_data['Label'], predictions)\n",
    "classification_rep = classification_report(test_data['Label'], predictions)\n",
    "\n",
    "\n",
    "# Assuming 'model' is the trained model\n",
    "joblib.dump(model, 'your_model_filename.joblib')\n",
    "print(f\"Model Accuracy: {accuracy}\")\n",
    "print(\"\\nClassification Report:\")\n",
    "print(classification_rep)"
   ]
  },
  {
   "cell_type": "code",
   "execution_count": null,
   "metadata": {},
   "outputs": [],
   "source": []
  }
 ],
 "metadata": {
  "kernelspec": {
   "display_name": "Python 3",
   "language": "python",
   "name": "python3"
  },
  "language_info": {
   "codemirror_mode": {
    "name": "ipython",
    "version": 3
   },
   "file_extension": ".py",
   "mimetype": "text/x-python",
   "name": "python",
   "nbconvert_exporter": "python",
   "pygments_lexer": "ipython3",
   "version": "3.10.11"
  }
 },
 "nbformat": 4,
 "nbformat_minor": 2
}
